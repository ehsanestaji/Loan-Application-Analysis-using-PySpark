{
 "cells": [
  {
   "cell_type": "code",
   "execution_count": 1,
   "id": "initial_id",
   "metadata": {
    "collapsed": true,
    "ExecuteTime": {
     "end_time": "2023-10-27T09:22:17.305957745Z",
     "start_time": "2023-10-27T09:22:05.294355250Z"
    }
   },
   "outputs": [],
   "source": [
    "import os \n",
    "extracted_files = os.listdir('adult')\n"
   ]
  },
  {
   "cell_type": "code",
   "execution_count": 2,
   "outputs": [
    {
     "data": {
      "text/plain": "['adult.test', 'old.adult.names', 'adult.data', 'Index', 'adult.names']"
     },
     "execution_count": 2,
     "metadata": {},
     "output_type": "execute_result"
    }
   ],
   "source": [
    "extracted_files"
   ],
   "metadata": {
    "collapsed": false,
    "ExecuteTime": {
     "end_time": "2023-10-27T09:22:35.328925969Z",
     "start_time": "2023-10-27T09:22:35.319240333Z"
    }
   },
   "id": "59475c11a61d61f9"
  },
  {
   "cell_type": "code",
   "execution_count": 3,
   "outputs": [
    {
     "name": "stdout",
     "output_type": "stream",
     "text": [
      "| This data was extracted from the census bureau database found at\n",
      "| http://www.census.gov/ftp/pub/DES/www/welcome.html\n",
      "| Donor: Ronny Kohavi and Barry Becker,\n",
      "|        Data Mining and Visualization\n",
      "|        Silicon Graphics.\n",
      "|        e-mail: ronnyk@sgi.com for questions.\n",
      "| Split into train-test using MLC++ GenCVFiles (2/3, 1/3 random).\n",
      "| 48842 instances, mix of continuous and discrete    (train=32561, test=16281)\n",
      "| 45222 if instances with unknown values are removed (train=30162, test=15060)\n",
      "| Duplicate or conflicting instances : 6\n",
      "| Class probabilities for adult.all file\n",
      "| Probability for the label '>50K'  : 23.93% / 24.78% (without unknowns)\n",
      "| Probability for the label '<=50K' : 76.07% / 75.22% (without unknowns)\n",
      "|\n",
      "| Extraction was done by Barry Becker from the 1994 Census database.  A set of\n",
      "|   reasonably clean records was extracted using the following conditions:\n",
      "|   ((AAGE>16) && (AGI>100) && (AFNLWGT>1)&& (HRSWK>0))\n",
      "|\n",
      "| Prediction task is to determine whether a person makes over\n"
     ]
    }
   ],
   "source": [
    "with open('adult/adult.names', 'r') as f:\n",
    "    names_content = f.read()\n",
    "\n",
    "print(names_content[:1000])"
   ],
   "metadata": {
    "collapsed": false,
    "ExecuteTime": {
     "end_time": "2023-10-27T09:22:35.924298376Z",
     "start_time": "2023-10-27T09:22:35.921181894Z"
    }
   },
   "id": "245c85c3e997f985"
  },
  {
   "cell_type": "code",
   "execution_count": 5,
   "outputs": [
    {
     "name": "stdout",
     "output_type": "stream",
     "text": [
      "3.5.0\n"
     ]
    }
   ],
   "source": [
    "from pyspark.sql import SparkSession\n",
    "\n",
    "# Initialize a Spark session\n",
    "spark = SparkSession.builder \\\n",
    "    .appName(\"UCI Adult Income Analysis\") \\\n",
    "    .getOrCreate()\n",
    "\n",
    "# Show the Spark session details to confirm it's up and running\n",
    "print(spark.version)\n"
   ],
   "metadata": {
    "collapsed": false,
    "ExecuteTime": {
     "end_time": "2023-10-27T09:22:52.813829592Z",
     "start_time": "2023-10-27T09:22:52.087331241Z"
    }
   },
   "id": "3b6204264e079d7d"
  },
  {
   "cell_type": "code",
   "execution_count": 13,
   "outputs": [
    {
     "data": {
      "text/plain": "32"
     },
     "execution_count": 13,
     "metadata": {},
     "output_type": "execute_result"
    }
   ],
   "source": [
    "from pyspark.sql import SparkSession\n",
    "\n",
    "# Initialize a Spark session if you haven't already\n",
    "spark = SparkSession.builder \\\n",
    "    .appName(\"UCI Adult Income Analysis\") \\\n",
    "    .getOrCreate()\n",
    "\n",
    "# Define the schema based on what we know from the adult.names file\n",
    "from pyspark.sql.types import StructType, StructField, IntegerType, StringType\n",
    "\n",
    "schema = StructType([\n",
    "    StructField(\"age\", IntegerType(), True),\n",
    "    StructField(\"workclass\", StringType(), True),\n",
    "    StructField(\"fnlwgt\", IntegerType(), True),\n",
    "    StructField(\"education\", StringType(), True),\n",
    "    StructField(\"education_num\", IntegerType(), True),\n",
    "    StructField(\"marital_status\", StringType(), True),\n",
    "    StructField(\"occupation\", StringType(), True),\n",
    "    StructField(\"relationship\", StringType(), True),\n",
    "    StructField(\"race\", StringType(), True),\n",
    "    StructField(\"sex\", StringType(), True),\n",
    "    StructField(\"capital_gain\", IntegerType(), True),\n",
    "    StructField(\"capital_loss\", IntegerType(), True),\n",
    "    StructField(\"hours_per_week\", IntegerType(), True),\n",
    "    StructField(\"native_country\", StringType(), True),\n",
    "    StructField(\"income\", StringType(), True)\n",
    "])\n",
    "\n",
    "# Load the data into a DataFrame\n",
    "data_path = \"adult/adult.data\"\n",
    "df = spark.read.csv(data_path, schema=schema, header=False, sep=\",\")\n",
    "\n",
    "# Show the first few rows to verify\n",
    "df.__sizeof__()\n"
   ],
   "metadata": {
    "collapsed": false,
    "ExecuteTime": {
     "end_time": "2023-10-27T10:58:14.274142322Z",
     "start_time": "2023-10-27T10:58:14.246416523Z"
    }
   },
   "id": "aa227e81b88e847e"
  },
  {
   "cell_type": "code",
   "execution_count": 19,
   "outputs": [],
   "source": [
    "import  pandas as pd \n",
    "df = spark.read.csv(\"adult/adult.data\")"
   ],
   "metadata": {
    "collapsed": false,
    "ExecuteTime": {
     "end_time": "2023-10-27T11:00:13.971877508Z",
     "start_time": "2023-10-27T11:00:13.830477371Z"
    }
   },
   "id": "3a4d6b3bc240f7d4"
  },
  {
   "cell_type": "code",
   "execution_count": 24,
   "outputs": [
    {
     "name": "stderr",
     "output_type": "stream",
     "text": [
      "[Stage 7:>                                                          (0 + 1) / 1]\r"
     ]
    },
    {
     "name": "stdout",
     "output_type": "stream",
     "text": [
      "+---+-----------------+-------+-------------+---+--------------------+------------------+--------------+-------------------+-------+------+----+----+--------------+------+\n",
      "|_c0|              _c1|    _c2|          _c3|_c4|                 _c5|               _c6|           _c7|                _c8|    _c9|  _c10|_c11|_c12|          _c13|  _c14|\n",
      "+---+-----------------+-------+-------------+---+--------------------+------------------+--------------+-------------------+-------+------+----+----+--------------+------+\n",
      "| 39|        State-gov|  77516|    Bachelors| 13|       Never-married|      Adm-clerical| Not-in-family|              White|   Male|  2174|   0|  40| United-States| <=50K|\n",
      "| 50| Self-emp-not-inc|  83311|    Bachelors| 13|  Married-civ-spouse|   Exec-managerial|       Husband|              White|   Male|     0|   0|  13| United-States| <=50K|\n",
      "| 38|          Private| 215646|      HS-grad|  9|            Divorced| Handlers-cleaners| Not-in-family|              White|   Male|     0|   0|  40| United-States| <=50K|\n",
      "| 53|          Private| 234721|         11th|  7|  Married-civ-spouse| Handlers-cleaners|       Husband|              Black|   Male|     0|   0|  40| United-States| <=50K|\n",
      "| 28|          Private| 338409|    Bachelors| 13|  Married-civ-spouse|    Prof-specialty|          Wife|              Black| Female|     0|   0|  40|          Cuba| <=50K|\n",
      "| 37|          Private| 284582|      Masters| 14|  Married-civ-spouse|   Exec-managerial|          Wife|              White| Female|     0|   0|  40| United-States| <=50K|\n",
      "| 49|          Private| 160187|          9th|  5| Married-spouse-a...|     Other-service| Not-in-family|              Black| Female|     0|   0|  16|       Jamaica| <=50K|\n",
      "| 52| Self-emp-not-inc| 209642|      HS-grad|  9|  Married-civ-spouse|   Exec-managerial|       Husband|              White|   Male|     0|   0|  45| United-States|  >50K|\n",
      "| 31|          Private|  45781|      Masters| 14|       Never-married|    Prof-specialty| Not-in-family|              White| Female| 14084|   0|  50| United-States|  >50K|\n",
      "| 42|          Private| 159449|    Bachelors| 13|  Married-civ-spouse|   Exec-managerial|       Husband|              White|   Male|  5178|   0|  40| United-States|  >50K|\n",
      "| 37|          Private| 280464| Some-college| 10|  Married-civ-spouse|   Exec-managerial|       Husband|              Black|   Male|     0|   0|  80| United-States|  >50K|\n",
      "| 30|        State-gov| 141297|    Bachelors| 13|  Married-civ-spouse|    Prof-specialty|       Husband| Asian-Pac-Islander|   Male|     0|   0|  40|         India|  >50K|\n",
      "| 23|          Private| 122272|    Bachelors| 13|       Never-married|      Adm-clerical|     Own-child|              White| Female|     0|   0|  30| United-States| <=50K|\n",
      "| 32|          Private| 205019|   Assoc-acdm| 12|       Never-married|             Sales| Not-in-family|              Black|   Male|     0|   0|  50| United-States| <=50K|\n",
      "| 40|          Private| 121772|    Assoc-voc| 11|  Married-civ-spouse|      Craft-repair|       Husband| Asian-Pac-Islander|   Male|     0|   0|  40|             ?|  >50K|\n",
      "| 34|          Private| 245487|      7th-8th|  4|  Married-civ-spouse|  Transport-moving|       Husband| Amer-Indian-Eskimo|   Male|     0|   0|  45|        Mexico| <=50K|\n",
      "| 25| Self-emp-not-inc| 176756|      HS-grad|  9|       Never-married|   Farming-fishing|     Own-child|              White|   Male|     0|   0|  35| United-States| <=50K|\n",
      "| 32|          Private| 186824|      HS-grad|  9|       Never-married| Machine-op-inspct|     Unmarried|              White|   Male|     0|   0|  40| United-States| <=50K|\n",
      "| 38|          Private|  28887|         11th|  7|  Married-civ-spouse|             Sales|       Husband|              White|   Male|     0|   0|  50| United-States| <=50K|\n",
      "| 43| Self-emp-not-inc| 292175|      Masters| 14|            Divorced|   Exec-managerial|     Unmarried|              White| Female|     0|   0|  45| United-States|  >50K|\n",
      "+---+-----------------+-------+-------------+---+--------------------+------------------+--------------+-------------------+-------+------+----+----+--------------+------+\n"
     ]
    },
    {
     "name": "stderr",
     "output_type": "stream",
     "text": [
      "                                                                                \r"
     ]
    }
   ],
   "source": [
    "df.show()"
   ],
   "metadata": {
    "collapsed": false,
    "ExecuteTime": {
     "end_time": "2023-10-27T11:05:17.772621697Z",
     "start_time": "2023-10-27T11:05:12.979353723Z"
    }
   },
   "id": "29c83ce864b46e62"
  },
  {
   "cell_type": "code",
   "execution_count": null,
   "outputs": [],
   "source": [],
   "metadata": {
    "collapsed": false
   },
   "id": "2989a9419c798fbd"
  }
 ],
 "metadata": {
  "kernelspec": {
   "display_name": "Python 3",
   "language": "python",
   "name": "python3"
  },
  "language_info": {
   "codemirror_mode": {
    "name": "ipython",
    "version": 2
   },
   "file_extension": ".py",
   "mimetype": "text/x-python",
   "name": "python",
   "nbconvert_exporter": "python",
   "pygments_lexer": "ipython2",
   "version": "2.7.6"
  }
 },
 "nbformat": 4,
 "nbformat_minor": 5
}
