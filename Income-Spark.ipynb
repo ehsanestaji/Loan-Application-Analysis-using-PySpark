{
 "cells": [
  {
   "cell_type": "markdown",
   "source": [
    "## Import Essential Libraries\n",
    "\n",
    "We start by importing essential Python libraries such as `os` for operating system dependent functionalities and `pandas` for data manipulation.\n"
   ],
   "metadata": {
    "collapsed": false
   },
   "id": "2e1851729de5ffec"
  },
  {
   "cell_type": "code",
   "execution_count": 1,
   "id": "1a78d16b-0d22-40e7-945e-bf286731f2fd",
   "metadata": {},
   "outputs": [],
   "source": [
    "import os\n",
    "import pandas as pd"
   ]
  },
  {
   "cell_type": "markdown",
   "source": [
    "## Initialize PySpark Configuration\n",
    "\n",
    "Here, we initialize the Spark Configuration and Context. This is a necessary step before performing any Spark operations.\n"
   ],
   "metadata": {
    "collapsed": false
   },
   "id": "89d3854e76b4b007"
  },
  {
   "cell_type": "code",
   "execution_count": 2,
   "id": "ec19d87a-71cd-422a-89bf-028af90691ae",
   "metadata": {},
   "outputs": [
    {
     "name": "stderr",
     "output_type": "stream",
     "text": [
      "Setting default log level to \"WARN\".\n",
      "To adjust logging level use sc.setLogLevel(newLevel). For SparkR, use setLogLevel(newLevel).\n",
      "23/10/28 10:47:30 WARN NativeCodeLoader: Unable to load native-hadoop library for your platform... using builtin-java classes where applicable\n"
     ]
    }
   ],
   "source": [
    "from pyspark import SparkConf, SparkContext\n",
    "\n",
    "# Initialize SparkConf and SparkContext\n",
    "conf = SparkConf().setAppName(\"YourAppName\").setMaster(\"local[*]\")  # Adjust the parameters as needed\n",
    "sc = SparkContext(conf=conf)\n",
    "\n",
    "# Set log level\n",
    "sc.setLogLevel(\"ERROR\")\n"
   ]
  },
  {
   "cell_type": "markdown",
   "source": [
    "## Import PySpark and Initialize\n",
    "\n",
    "In this cell, we import the PySpark library and initialize the Spark Session.\n"
   ],
   "metadata": {
    "collapsed": false
   },
   "id": "d94d7b6cac4bde6b"
  },
  {
   "cell_type": "code",
   "execution_count": 3,
   "id": "523bf33c-c974-4a8e-8621-0452a406034e",
   "metadata": {},
   "outputs": [
    {
     "name": "stderr",
     "output_type": "stream",
     "text": [
      "[Stage 1:===>                                                     (1 + 15) / 16]\r"
     ]
    },
    {
     "name": "stdout",
     "output_type": "stream",
     "text": [
      "root\n",
      " |-- SK_ID_CURR: integer (nullable = true)\n",
      " |-- TARGET: integer (nullable = true)\n",
      " |-- NAME_CONTRACT_TYPE: string (nullable = true)\n",
      " |-- CODE_GENDER: string (nullable = true)\n",
      " |-- FLAG_OWN_CAR: string (nullable = true)\n",
      " |-- FLAG_OWN_REALTY: string (nullable = true)\n",
      " |-- CNT_CHILDREN: integer (nullable = true)\n",
      " |-- AMT_INCOME_TOTAL: double (nullable = true)\n",
      " |-- AMT_CREDIT: double (nullable = true)\n",
      " |-- AMT_ANNUITY: double (nullable = true)\n",
      " |-- AMT_GOODS_PRICE: double (nullable = true)\n",
      " |-- NAME_TYPE_SUITE: string (nullable = true)\n",
      " |-- NAME_INCOME_TYPE: string (nullable = true)\n",
      " |-- NAME_EDUCATION_TYPE: string (nullable = true)\n",
      " |-- NAME_FAMILY_STATUS: string (nullable = true)\n",
      " |-- NAME_HOUSING_TYPE: string (nullable = true)\n",
      " |-- REGION_POPULATION_RELATIVE: double (nullable = true)\n",
      " |-- DAYS_BIRTH: integer (nullable = true)\n",
      " |-- DAYS_EMPLOYED: integer (nullable = true)\n",
      " |-- DAYS_REGISTRATION: double (nullable = true)\n",
      " |-- DAYS_ID_PUBLISH: integer (nullable = true)\n",
      " |-- OWN_CAR_AGE: double (nullable = true)\n",
      " |-- FLAG_MOBIL: integer (nullable = true)\n",
      " |-- FLAG_EMP_PHONE: integer (nullable = true)\n",
      " |-- FLAG_WORK_PHONE: integer (nullable = true)\n",
      " |-- FLAG_CONT_MOBILE: integer (nullable = true)\n",
      " |-- FLAG_PHONE: integer (nullable = true)\n",
      " |-- FLAG_EMAIL: integer (nullable = true)\n",
      " |-- OCCUPATION_TYPE: string (nullable = true)\n",
      " |-- CNT_FAM_MEMBERS: double (nullable = true)\n",
      " |-- REGION_RATING_CLIENT: integer (nullable = true)\n",
      " |-- REGION_RATING_CLIENT_W_CITY: integer (nullable = true)\n",
      " |-- WEEKDAY_APPR_PROCESS_START: string (nullable = true)\n",
      " |-- HOUR_APPR_PROCESS_START: integer (nullable = true)\n",
      " |-- REG_REGION_NOT_LIVE_REGION: integer (nullable = true)\n",
      " |-- REG_REGION_NOT_WORK_REGION: integer (nullable = true)\n",
      " |-- LIVE_REGION_NOT_WORK_REGION: integer (nullable = true)\n",
      " |-- REG_CITY_NOT_LIVE_CITY: integer (nullable = true)\n",
      " |-- REG_CITY_NOT_WORK_CITY: integer (nullable = true)\n",
      " |-- LIVE_CITY_NOT_WORK_CITY: integer (nullable = true)\n",
      " |-- ORGANIZATION_TYPE: string (nullable = true)\n",
      " |-- EXT_SOURCE_1: double (nullable = true)\n",
      " |-- EXT_SOURCE_2: double (nullable = true)\n",
      " |-- EXT_SOURCE_3: double (nullable = true)\n",
      " |-- APARTMENTS_AVG: double (nullable = true)\n",
      " |-- BASEMENTAREA_AVG: double (nullable = true)\n",
      " |-- YEARS_BEGINEXPLUATATION_AVG: double (nullable = true)\n",
      " |-- YEARS_BUILD_AVG: double (nullable = true)\n",
      " |-- COMMONAREA_AVG: double (nullable = true)\n",
      " |-- ELEVATORS_AVG: double (nullable = true)\n",
      " |-- ENTRANCES_AVG: double (nullable = true)\n",
      " |-- FLOORSMAX_AVG: double (nullable = true)\n",
      " |-- FLOORSMIN_AVG: double (nullable = true)\n",
      " |-- LANDAREA_AVG: double (nullable = true)\n",
      " |-- LIVINGAPARTMENTS_AVG: double (nullable = true)\n",
      " |-- LIVINGAREA_AVG: double (nullable = true)\n",
      " |-- NONLIVINGAPARTMENTS_AVG: double (nullable = true)\n",
      " |-- NONLIVINGAREA_AVG: double (nullable = true)\n",
      " |-- APARTMENTS_MODE: double (nullable = true)\n",
      " |-- BASEMENTAREA_MODE: double (nullable = true)\n",
      " |-- YEARS_BEGINEXPLUATATION_MODE: double (nullable = true)\n",
      " |-- YEARS_BUILD_MODE: double (nullable = true)\n",
      " |-- COMMONAREA_MODE: double (nullable = true)\n",
      " |-- ELEVATORS_MODE: double (nullable = true)\n",
      " |-- ENTRANCES_MODE: double (nullable = true)\n",
      " |-- FLOORSMAX_MODE: double (nullable = true)\n",
      " |-- FLOORSMIN_MODE: double (nullable = true)\n",
      " |-- LANDAREA_MODE: double (nullable = true)\n",
      " |-- LIVINGAPARTMENTS_MODE: double (nullable = true)\n",
      " |-- LIVINGAREA_MODE: double (nullable = true)\n",
      " |-- NONLIVINGAPARTMENTS_MODE: double (nullable = true)\n",
      " |-- NONLIVINGAREA_MODE: double (nullable = true)\n",
      " |-- APARTMENTS_MEDI: double (nullable = true)\n",
      " |-- BASEMENTAREA_MEDI: double (nullable = true)\n",
      " |-- YEARS_BEGINEXPLUATATION_MEDI: double (nullable = true)\n",
      " |-- YEARS_BUILD_MEDI: double (nullable = true)\n",
      " |-- COMMONAREA_MEDI: double (nullable = true)\n",
      " |-- ELEVATORS_MEDI: double (nullable = true)\n",
      " |-- ENTRANCES_MEDI: double (nullable = true)\n",
      " |-- FLOORSMAX_MEDI: double (nullable = true)\n",
      " |-- FLOORSMIN_MEDI: double (nullable = true)\n",
      " |-- LANDAREA_MEDI: double (nullable = true)\n",
      " |-- LIVINGAPARTMENTS_MEDI: double (nullable = true)\n",
      " |-- LIVINGAREA_MEDI: double (nullable = true)\n",
      " |-- NONLIVINGAPARTMENTS_MEDI: double (nullable = true)\n",
      " |-- NONLIVINGAREA_MEDI: double (nullable = true)\n",
      " |-- FONDKAPREMONT_MODE: string (nullable = true)\n",
      " |-- HOUSETYPE_MODE: string (nullable = true)\n",
      " |-- TOTALAREA_MODE: double (nullable = true)\n",
      " |-- WALLSMATERIAL_MODE: string (nullable = true)\n",
      " |-- EMERGENCYSTATE_MODE: string (nullable = true)\n",
      " |-- OBS_30_CNT_SOCIAL_CIRCLE: double (nullable = true)\n",
      " |-- DEF_30_CNT_SOCIAL_CIRCLE: double (nullable = true)\n",
      " |-- OBS_60_CNT_SOCIAL_CIRCLE: double (nullable = true)\n",
      " |-- DEF_60_CNT_SOCIAL_CIRCLE: double (nullable = true)\n",
      " |-- DAYS_LAST_PHONE_CHANGE: double (nullable = true)\n",
      " |-- FLAG_DOCUMENT_2: integer (nullable = true)\n",
      " |-- FLAG_DOCUMENT_3: integer (nullable = true)\n",
      " |-- FLAG_DOCUMENT_4: integer (nullable = true)\n",
      " |-- FLAG_DOCUMENT_5: integer (nullable = true)\n",
      " |-- FLAG_DOCUMENT_6: integer (nullable = true)\n",
      " |-- FLAG_DOCUMENT_7: integer (nullable = true)\n",
      " |-- FLAG_DOCUMENT_8: integer (nullable = true)\n",
      " |-- FLAG_DOCUMENT_9: integer (nullable = true)\n",
      " |-- FLAG_DOCUMENT_10: integer (nullable = true)\n",
      " |-- FLAG_DOCUMENT_11: integer (nullable = true)\n",
      " |-- FLAG_DOCUMENT_12: integer (nullable = true)\n",
      " |-- FLAG_DOCUMENT_13: integer (nullable = true)\n",
      " |-- FLAG_DOCUMENT_14: integer (nullable = true)\n",
      " |-- FLAG_DOCUMENT_15: integer (nullable = true)\n",
      " |-- FLAG_DOCUMENT_16: integer (nullable = true)\n",
      " |-- FLAG_DOCUMENT_17: integer (nullable = true)\n",
      " |-- FLAG_DOCUMENT_18: integer (nullable = true)\n",
      " |-- FLAG_DOCUMENT_19: integer (nullable = true)\n",
      " |-- FLAG_DOCUMENT_20: integer (nullable = true)\n",
      " |-- FLAG_DOCUMENT_21: integer (nullable = true)\n",
      " |-- AMT_REQ_CREDIT_BUREAU_HOUR: double (nullable = true)\n",
      " |-- AMT_REQ_CREDIT_BUREAU_DAY: double (nullable = true)\n",
      " |-- AMT_REQ_CREDIT_BUREAU_WEEK: double (nullable = true)\n",
      " |-- AMT_REQ_CREDIT_BUREAU_MON: double (nullable = true)\n",
      " |-- AMT_REQ_CREDIT_BUREAU_QRT: double (nullable = true)\n",
      " |-- AMT_REQ_CREDIT_BUREAU_YEAR: double (nullable = true)\n"
     ]
    },
    {
     "name": "stderr",
     "output_type": "stream",
     "text": [
      "                                                                                \r"
     ]
    }
   ],
   "source": [
    "import pyspark # only run after findspark.init()\n",
    "from pyspark.sql import SparkSession\n",
    "\n",
    "# sc = pyspark.SparkContext(appName=\"imbalanced_binary_classification\")\n",
    "# initiate our session and read the main CSV file, then we print the #dataframe schema\n",
    "spark = SparkSession.builder.appName('imbalanced_binary_classification').getOrCreate()\n",
    "  \n",
    "\n",
    "new_df = spark.read.csv('application_train.csv', header=True, inferSchema=True)\n",
    "new_df.printSchema()"
   ]
  },
  {
   "cell_type": "markdown",
   "source": [
    "## Data Preprocessing: Dropping Columns\n",
    "\n",
    "In this section, we drop columns that are not needed for our analysis. Here, we drop the 'SK_ID_CURR' column.\n"
   ],
   "metadata": {
    "collapsed": false
   },
   "id": "9a2118e6d491df58"
  },
  {
   "cell_type": "code",
   "execution_count": 4,
   "id": "82c1894e-1d59-4f13-8526-ab5ec64aa941",
   "metadata": {},
   "outputs": [
    {
     "name": "stderr",
     "output_type": "stream",
     "text": [
      "                                                                                \r"
     ]
    },
    {
     "data": {
      "text/html": [
       "<div>\n",
       "<style scoped>\n",
       "    .dataframe tbody tr th:only-of-type {\n",
       "        vertical-align: middle;\n",
       "    }\n",
       "\n",
       "    .dataframe tbody tr th {\n",
       "        vertical-align: top;\n",
       "    }\n",
       "\n",
       "    .dataframe thead th {\n",
       "        text-align: right;\n",
       "    }\n",
       "</style>\n",
       "<table border=\"1\" class=\"dataframe\">\n",
       "  <thead>\n",
       "    <tr style=\"text-align: right;\">\n",
       "      <th></th>\n",
       "      <th>label</th>\n",
       "      <th>count</th>\n",
       "    </tr>\n",
       "  </thead>\n",
       "  <tbody>\n",
       "    <tr>\n",
       "      <th>0</th>\n",
       "      <td>1</td>\n",
       "      <td>24825</td>\n",
       "    </tr>\n",
       "    <tr>\n",
       "      <th>1</th>\n",
       "      <td>0</td>\n",
       "      <td>282686</td>\n",
       "    </tr>\n",
       "  </tbody>\n",
       "</table>\n",
       "</div>"
      ],
      "text/plain": [
       "   label   count\n",
       "0      1   24825\n",
       "1      0  282686"
      ]
     },
     "execution_count": 4,
     "metadata": {},
     "output_type": "execute_result"
    }
   ],
   "source": [
    "drop_col = ['SK_ID_CURR']\n",
    "new_df = new_df.select([column for column in new_df.columns if column not in drop_col])\n",
    "new_df = new_df.withColumnRenamed('TARGET', 'label')\n",
    "new_df.groupby('label').count().toPandas()"
   ]
  },
  {
   "cell_type": "markdown",
   "source": [
    "## Exploring Target Distribution\n",
    "\n",
    "We visualize the distribution of our target variable to understand the class imbalance, if any.\n"
   ],
   "metadata": {
    "collapsed": false
   },
   "id": "eea3d5c585bfe9af"
  },
  {
   "cell_type": "code",
   "execution_count": 5,
   "id": "a6031750-3657-47fd-8d00-e699d79f5975",
   "metadata": {},
   "outputs": [
    {
     "name": "stderr",
     "output_type": "stream",
     "text": [
      "<frozen importlib._bootstrap>:228: RuntimeWarning: scipy._lib.messagestream.MessageStream size changed, may indicate binary incompatibility. Expected 56 from C header, got 64 from PyObject\n",
      "                                                                                \r"
     ]
    },
    {
     "name": "stdout",
     "output_type": "stream",
     "text": [
      "307511\n"
     ]
    },
    {
     "data": {
      "text/plain": [
       "<AxesSubplot: xlabel='label', ylabel='count'>"
      ]
     },
     "execution_count": 5,
     "metadata": {},
     "output_type": "execute_result"
    },
    {
     "data": {
      "image/png": "[encoded data removed]",
      "text/plain": [
       "<Figure size 1200x1000 with 1 Axes>"
      ]
     },
     "metadata": {},
     "output_type": "display_data"
    }
   ],
   "source": [
    "# let's have a look at the distribution of our target variable:\n",
    "# to make it look better, we first convert our spark df to a Pandas\n",
    "import matplotlib.pyplot as plt\n",
    "import seaborn as sns\n",
    "%matplotlib inline\n",
    "df_pd = new_df.toPandas()\n",
    "print(len(df_pd))\n",
    "plt.figure(figsize=(12,10))\n",
    "sns.countplot(x='label', data=df_pd, order=df_pd['label'].value_counts().index)\n"
   ]
  },
  {
   "cell_type": "markdown",
   "source": [
    "## Data Overview with Pandas\n",
    "\n",
    "We take a look at the data using Pandas for a quick exploration. This helps in understanding the data before diving deeper into analysis.\n"
   ],
   "metadata": {
    "collapsed": false
   },
   "id": "56eed052b67dd755"
  },
  {
   "cell_type": "code",
   "execution_count": 2,
   "outputs": [
    {
     "ename": "NameError",
     "evalue": "name 'new_df' is not defined",
     "output_type": "error",
     "traceback": [
      "\u001B[0;31m---------------------------------------------------------------------------\u001B[0m",
      "\u001B[0;31mNameError\u001B[0m                                 Traceback (most recent call last)",
      "\u001B[0;32m/tmp/ipykernel_53939/817498318.py\u001B[0m in \u001B[0;36m<module>\u001B[0;34m\u001B[0m\n\u001B[1;32m      1\u001B[0m \u001B[0;31m# let's see how everything look in Pandas\u001B[0m\u001B[0;34m\u001B[0m\u001B[0;34m\u001B[0m\u001B[0m\n\u001B[1;32m      2\u001B[0m \u001B[0;32mimport\u001B[0m \u001B[0mpandas\u001B[0m \u001B[0;32mas\u001B[0m \u001B[0mpd\u001B[0m\u001B[0;34m\u001B[0m\u001B[0;34m\u001B[0m\u001B[0m\n\u001B[0;32m----> 3\u001B[0;31m \u001B[0mpd\u001B[0m\u001B[0;34m.\u001B[0m\u001B[0mDataFrame\u001B[0m\u001B[0;34m(\u001B[0m\u001B[0mnew_df\u001B[0m\u001B[0;34m.\u001B[0m\u001B[0mtake\u001B[0m\u001B[0;34m(\u001B[0m\u001B[0;36m10\u001B[0m\u001B[0;34m)\u001B[0m\u001B[0;34m,\u001B[0m \u001B[0mcolumns\u001B[0m\u001B[0;34m=\u001B[0m \u001B[0mnew_df\u001B[0m\u001B[0;34m.\u001B[0m\u001B[0mcolumns\u001B[0m\u001B[0;34m)\u001B[0m\u001B[0;34m\u001B[0m\u001B[0;34m\u001B[0m\u001B[0m\n\u001B[0m\u001B[1;32m      4\u001B[0m \u001B[0;34m\u001B[0m\u001B[0m\n",
      "\u001B[0;31mNameError\u001B[0m: name 'new_df' is not defined"
     ]
    }
   ],
   "source": [
    "# let's see how everything look in Pandas\n",
    "import pandas as pd\n",
    "pd.DataFrame(new_df.take(10), columns= new_df.columns)\n"
   ],
   "metadata": {
    "collapsed": false,
    "ExecuteTime": {
     "end_time": "2023-10-28T09:35:24.974973783Z",
     "start_time": "2023-10-28T09:35:24.910244300Z"
    }
   },
   "id": "dbbc8fe85dcf7688"
  },
  {
   "cell_type": "markdown",
   "source": [
    "## Categorical and Numerical Column Exploration\n",
    "\n",
    "In this cell, we explore the categorical and numerical columns in the dataset. This helps us understand the nature of each feature and plan for necessary preprocessing steps.\n"
   ],
   "metadata": {
    "collapsed": false
   },
   "id": "37a70990899eb4e"
  },
  {
   "cell_type": "code",
   "execution_count": 11,
   "id": "33b6efce-89e3-4c62-9e5a-a64c986712e4",
   "metadata": {},
   "outputs": [
    {
     "name": "stdout",
     "output_type": "stream",
     "text": [
      "16  categorical features\n",
      "104  numerical features\n"
     ]
    }
   ],
   "source": [
    "## [Categorical and Numerical column] ##\n",
    "\n",
    "# See how many categorical + numerical features:\n",
    "cat_cols = [item[0] for item in new_df.dtypes if item[1].startswith('string')] \n",
    "num_cols = [item[0] for item in new_df.dtypes if item[1].startswith('int') | item[1].startswith('double')][1:]\n",
    "\n",
    "print(str(len(cat_cols)) + '  categorical features')\n",
    "print(str(len(num_cols)) + '  numerical features')\n"
   ]
  },
  {
   "cell_type": "markdown",
   "source": [
    "## Handling Missing Values\n",
    "\n",
    "We investigate missing values in the dataset. Understanding the extent of missing values is crucial for effective data preprocessing and modeling.\n"
   ],
   "metadata": {
    "collapsed": false
   },
   "id": "fb99ad89cdc54573"
  },
  {
   "cell_type": "code",
   "execution_count": 12,
   "id": "94625fc6-5091-4a1b-be63-0ca8ec81934f",
   "metadata": {},
   "outputs": [
    {
     "name": "stdout",
     "output_type": "stream",
     "text": [
      "Your selected dataframe has 121 columns.\n",
      "There are 67 columns that have missing values.\n"
     ]
    },
    {
     "data": {
      "text/html": [
       "<div>\n",
       "<style scoped>\n",
       "    .dataframe tbody tr th:only-of-type {\n",
       "        vertical-align: middle;\n",
       "    }\n",
       "\n",
       "    .dataframe tbody tr th {\n",
       "        vertical-align: top;\n",
       "    }\n",
       "\n",
       "    .dataframe thead th {\n",
       "        text-align: right;\n",
       "    }\n",
       "</style>\n",
       "<table border=\"1\" class=\"dataframe\">\n",
       "  <thead>\n",
       "    <tr style=\"text-align: right;\">\n",
       "      <th></th>\n",
       "      <th>Missing Values</th>\n",
       "      <th>% of Total Values</th>\n",
       "    </tr>\n",
       "  </thead>\n",
       "  <tbody>\n",
       "    <tr>\n",
       "      <th>COMMONAREA_MEDI</th>\n",
       "      <td>214865</td>\n",
       "      <td>69.9</td>\n",
       "    </tr>\n",
       "    <tr>\n",
       "      <th>COMMONAREA_AVG</th>\n",
       "      <td>214865</td>\n",
       "      <td>69.9</td>\n",
       "    </tr>\n",
       "    <tr>\n",
       "      <th>COMMONAREA_MODE</th>\n",
       "      <td>214865</td>\n",
       "      <td>69.9</td>\n",
       "    </tr>\n",
       "    <tr>\n",
       "      <th>NONLIVINGAPARTMENTS_MEDI</th>\n",
       "      <td>213514</td>\n",
       "      <td>69.4</td>\n",
       "    </tr>\n",
       "    <tr>\n",
       "      <th>NONLIVINGAPARTMENTS_MODE</th>\n",
       "      <td>213514</td>\n",
       "      <td>69.4</td>\n",
       "    </tr>\n",
       "    <tr>\n",
       "      <th>...</th>\n",
       "      <td>...</td>\n",
       "      <td>...</td>\n",
       "    </tr>\n",
       "    <tr>\n",
       "      <th>EXT_SOURCE_2</th>\n",
       "      <td>660</td>\n",
       "      <td>0.2</td>\n",
       "    </tr>\n",
       "    <tr>\n",
       "      <th>AMT_GOODS_PRICE</th>\n",
       "      <td>278</td>\n",
       "      <td>0.1</td>\n",
       "    </tr>\n",
       "    <tr>\n",
       "      <th>AMT_ANNUITY</th>\n",
       "      <td>12</td>\n",
       "      <td>0.0</td>\n",
       "    </tr>\n",
       "    <tr>\n",
       "      <th>CNT_FAM_MEMBERS</th>\n",
       "      <td>2</td>\n",
       "      <td>0.0</td>\n",
       "    </tr>\n",
       "    <tr>\n",
       "      <th>DAYS_LAST_PHONE_CHANGE</th>\n",
       "      <td>1</td>\n",
       "      <td>0.0</td>\n",
       "    </tr>\n",
       "  </tbody>\n",
       "</table>\n",
       "<p>67 rows × 2 columns</p>\n",
       "</div>"
      ],
      "text/plain": [
       "                          Missing Values  % of Total Values\n",
       "COMMONAREA_MEDI                   214865               69.9\n",
       "COMMONAREA_AVG                    214865               69.9\n",
       "COMMONAREA_MODE                   214865               69.9\n",
       "NONLIVINGAPARTMENTS_MEDI          213514               69.4\n",
       "NONLIVINGAPARTMENTS_MODE          213514               69.4\n",
       "...                                  ...                ...\n",
       "EXT_SOURCE_2                         660                0.2\n",
       "AMT_GOODS_PRICE                      278                0.1\n",
       "AMT_ANNUITY                           12                0.0\n",
       "CNT_FAM_MEMBERS                        2                0.0\n",
       "DAYS_LAST_PHONE_CHANGE                 1                0.0\n",
       "\n",
       "[67 rows x 2 columns]"
      ]
     },
     "execution_count": 12,
     "metadata": {},
     "output_type": "execute_result"
    }
   ],
   "source": [
    "## [Missing Values] ##\n",
    "\n",
    "# we use the below function to find more information about the #missing values\n",
    "def info_missing_table(df_pd):\n",
    "    \"\"\"Input pandas dataframe and Return columns with missing value and percentage\"\"\"\n",
    "    mis_val = df_pd.isnull().sum() #count total of null in each columns in dataframe\n",
    "#count percentage of null in each columns\n",
    "    mis_val_percent = 100 * df_pd.isnull().sum() / len(df_pd) \n",
    "    mis_val_table = pd.concat([mis_val, mis_val_percent], axis=1) \n",
    " #join to left (as column) between mis_val and mis_val_percent\n",
    "    mis_val_table_ren_columns = mis_val_table.rename(\n",
    "    columns = {0 : 'Missing Values', 1 : '% of Total Values'}) \n",
    "#rename columns in table\n",
    "    mis_val_table_ren_columns = mis_val_table_ren_columns[\n",
    "    mis_val_table_ren_columns.iloc[:,1] != 0].sort_values('% of Total Values', ascending=False).round(1) \n",
    "        \n",
    "    print (\"Your selected dataframe has \" + str(df_pd.shape[1]) + \" columns.\\n\"    #.shape[1] : just view total columns in dataframe  \n",
    "    \"There are \" + str(mis_val_table_ren_columns.shape[0]) +              \n",
    "    \" columns that have missing values.\") #.shape[0] : just view total rows in dataframe\n",
    "    return mis_val_table_ren_columns\n",
    "missings = info_missing_table(df_pd)\n",
    "missings\n"
   ]
  },
  {
   "cell_type": "markdown",
   "source": [
    "## Function to Count Missing Values\n",
    "\n",
    "This custom function counts the missing values for each column in the Spark DataFrame. It's a utility function that we'll use later."
   ],
   "metadata": {
    "collapsed": false
   },
   "id": "390923ec7edf6e1b"
  },
  {
   "cell_type": "code",
   "execution_count": 13,
   "id": "5b5cf0f0-472e-418e-9066-7f057800b26f",
   "metadata": {},
   "outputs": [],
   "source": [
    "def count_missings(spark_df):\n",
    "    null_counts = []        \n",
    "    for col in spark_df.dtypes:    \n",
    "        cname = col[0]     \n",
    "        ctype = col[1]      \n",
    "        nulls = spark_df.where( spark_df[cname].isNull()).count() #check count of null in column name\n",
    "        result = tuple([cname, nulls])  #new tuple, (column name, null count)\n",
    "        null_counts.append(result)      #put the new tuple in our result list\n",
    "    null_counts=[(x,y) for (x,y) in null_counts if y!=0]  #view just columns that have missing values\n",
    "    return null_counts\n"
   ]
  },
  {
   "cell_type": "markdown",
   "source": [
    "## Counting Missing Values in DataFrame\n",
    "\n",
    "Using the custom function we defined earlier, we count the missing values in each column of the DataFrame. This helps us decide how to handle them in the preprocessing steps.\n"
   ],
   "metadata": {
    "collapsed": false
   },
   "id": "8652f801b2c1eb80"
  },
  {
   "cell_type": "code",
   "execution_count": 14,
   "id": "a5cbb2a0-ce1c-48da-af7d-261c796f5ccd",
   "metadata": {},
   "outputs": [
    {
     "data": {
      "text/plain": [
       "[('AMT_ANNUITY', 12),\n",
       " ('AMT_GOODS_PRICE', 278),\n",
       " ('NAME_TYPE_SUITE', 1292),\n",
       " ('OWN_CAR_AGE', 202929),\n",
       " ('OCCUPATION_TYPE', 96391),\n",
       " ('CNT_FAM_MEMBERS', 2),\n",
       " ('EXT_SOURCE_1', 173378),\n",
       " ('EXT_SOURCE_2', 660),\n",
       " ('EXT_SOURCE_3', 60965),\n",
       " ('APARTMENTS_AVG', 156061),\n",
       " ('BASEMENTAREA_AVG', 179943),\n",
       " ('YEARS_BEGINEXPLUATATION_AVG', 150007),\n",
       " ('YEARS_BUILD_AVG', 204488),\n",
       " ('COMMONAREA_AVG', 214865),\n",
       " ('ELEVATORS_AVG', 163891),\n",
       " ('ENTRANCES_AVG', 154828),\n",
       " ('FLOORSMAX_AVG', 153020),\n",
       " ('FLOORSMIN_AVG', 208642),\n",
       " ('LANDAREA_AVG', 182590),\n",
       " ('LIVINGAPARTMENTS_AVG', 210199),\n",
       " ('LIVINGAREA_AVG', 154350),\n",
       " ('NONLIVINGAPARTMENTS_AVG', 213514),\n",
       " ('NONLIVINGAREA_AVG', 169682),\n",
       " ('APARTMENTS_MODE', 156061),\n",
       " ('BASEMENTAREA_MODE', 179943),\n",
       " ('YEARS_BEGINEXPLUATATION_MODE', 150007),\n",
       " ('YEARS_BUILD_MODE', 204488),\n",
       " ('COMMONAREA_MODE', 214865),\n",
       " ('ELEVATORS_MODE', 163891),\n",
       " ('ENTRANCES_MODE', 154828),\n",
       " ('FLOORSMAX_MODE', 153020),\n",
       " ('FLOORSMIN_MODE', 208642),\n",
       " ('LANDAREA_MODE', 182590),\n",
       " ('LIVINGAPARTMENTS_MODE', 210199),\n",
       " ('LIVINGAREA_MODE', 154350),\n",
       " ('NONLIVINGAPARTMENTS_MODE', 213514),\n",
       " ('NONLIVINGAREA_MODE', 169682),\n",
       " ('APARTMENTS_MEDI', 156061),\n",
       " ('BASEMENTAREA_MEDI', 179943),\n",
       " ('YEARS_BEGINEXPLUATATION_MEDI', 150007),\n",
       " ('YEARS_BUILD_MEDI', 204488),\n",
       " ('COMMONAREA_MEDI', 214865),\n",
       " ('ELEVATORS_MEDI', 163891),\n",
       " ('ENTRANCES_MEDI', 154828),\n",
       " ('FLOORSMAX_MEDI', 153020),\n",
       " ('FLOORSMIN_MEDI', 208642),\n",
       " ('LANDAREA_MEDI', 182590),\n",
       " ('LIVINGAPARTMENTS_MEDI', 210199),\n",
       " ('LIVINGAREA_MEDI', 154350),\n",
       " ('NONLIVINGAPARTMENTS_MEDI', 213514),\n",
       " ('NONLIVINGAREA_MEDI', 169682),\n",
       " ('FONDKAPREMONT_MODE', 210295),\n",
       " ('HOUSETYPE_MODE', 154297),\n",
       " ('TOTALAREA_MODE', 148431),\n",
       " ('WALLSMATERIAL_MODE', 156341),\n",
       " ('EMERGENCYSTATE_MODE', 145755),\n",
       " ('OBS_30_CNT_SOCIAL_CIRCLE', 1021),\n",
       " ('DEF_30_CNT_SOCIAL_CIRCLE', 1021),\n",
       " ('OBS_60_CNT_SOCIAL_CIRCLE', 1021),\n",
       " ('DEF_60_CNT_SOCIAL_CIRCLE', 1021),\n",
       " ('DAYS_LAST_PHONE_CHANGE', 1),\n",
       " ('AMT_REQ_CREDIT_BUREAU_HOUR', 41519),\n",
       " ('AMT_REQ_CREDIT_BUREAU_DAY', 41519),\n",
       " ('AMT_REQ_CREDIT_BUREAU_WEEK', 41519),\n",
       " ('AMT_REQ_CREDIT_BUREAU_MON', 41519),\n",
       " ('AMT_REQ_CREDIT_BUREAU_QRT', 41519),\n",
       " ('AMT_REQ_CREDIT_BUREAU_YEAR', 41519)]"
      ]
     },
     "execution_count": 14,
     "metadata": {},
     "output_type": "execute_result"
    }
   ],
   "source": [
    "miss_counts = count_missings(new_df)\n",
    "miss_counts\n"
   ]
  },
  {
   "cell_type": "code",
   "execution_count": 15,
   "id": "2f985fb7-d174-486c-b084-36803ebcf0a8",
   "metadata": {},
   "outputs": [
    {
     "name": "stdout",
     "output_type": "stream",
     "text": [
      "cateogrical columns_miss: ['NAME_TYPE_SUITE', 'OCCUPATION_TYPE', 'FONDKAPREMONT_MODE', 'HOUSETYPE_MODE', 'WALLSMATERIAL_MODE', 'EMERGENCYSTATE_MODE']\n",
      "numerical columns_miss: ['AMT_ANNUITY', 'AMT_GOODS_PRICE', 'OWN_CAR_AGE', 'CNT_FAM_MEMBERS', 'EXT_SOURCE_1', 'EXT_SOURCE_2', 'EXT_SOURCE_3', 'APARTMENTS_AVG', 'BASEMENTAREA_AVG', 'YEARS_BEGINEXPLUATATION_AVG', 'YEARS_BUILD_AVG', 'COMMONAREA_AVG', 'ELEVATORS_AVG', 'ENTRANCES_AVG', 'FLOORSMAX_AVG', 'FLOORSMIN_AVG', 'LANDAREA_AVG', 'LIVINGAPARTMENTS_AVG', 'LIVINGAREA_AVG', 'NONLIVINGAPARTMENTS_AVG', 'NONLIVINGAREA_AVG', 'APARTMENTS_MODE', 'BASEMENTAREA_MODE', 'YEARS_BEGINEXPLUATATION_MODE', 'YEARS_BUILD_MODE', 'COMMONAREA_MODE', 'ELEVATORS_MODE', 'ENTRANCES_MODE', 'FLOORSMAX_MODE', 'FLOORSMIN_MODE', 'LANDAREA_MODE', 'LIVINGAPARTMENTS_MODE', 'LIVINGAREA_MODE', 'NONLIVINGAPARTMENTS_MODE', 'NONLIVINGAREA_MODE', 'APARTMENTS_MEDI', 'BASEMENTAREA_MEDI', 'YEARS_BEGINEXPLUATATION_MEDI', 'YEARS_BUILD_MEDI', 'COMMONAREA_MEDI', 'ELEVATORS_MEDI', 'ENTRANCES_MEDI', 'FLOORSMAX_MEDI', 'FLOORSMIN_MEDI', 'LANDAREA_MEDI', 'LIVINGAPARTMENTS_MEDI', 'LIVINGAREA_MEDI', 'NONLIVINGAPARTMENTS_MEDI', 'NONLIVINGAREA_MEDI', 'TOTALAREA_MODE', 'OBS_30_CNT_SOCIAL_CIRCLE', 'DEF_30_CNT_SOCIAL_CIRCLE', 'OBS_60_CNT_SOCIAL_CIRCLE', 'DEF_60_CNT_SOCIAL_CIRCLE', 'DAYS_LAST_PHONE_CHANGE', 'AMT_REQ_CREDIT_BUREAU_HOUR', 'AMT_REQ_CREDIT_BUREAU_DAY', 'AMT_REQ_CREDIT_BUREAU_WEEK', 'AMT_REQ_CREDIT_BUREAU_MON', 'AMT_REQ_CREDIT_BUREAU_QRT', 'AMT_REQ_CREDIT_BUREAU_YEAR']\n"
     ]
    }
   ],
   "source": [
    "# Separate categorical and numerical columns with missing values based on types\n",
    "\n",
    "list_cols_miss=[x[0] for x in miss_counts]\n",
    "df_miss= new_df.select(*list_cols_miss)\n",
    "\n",
    "# categorical columns\n",
    "catcolums_miss=[item[0] for item in df_miss.dtypes if item[1].startswith('string')]  #will select name of column with string data type\n",
    "print(\"cateogrical columns_miss:\", catcolums_miss)\n",
    "\n",
    "# numerical columns\n",
    "numcolumns_miss = [item[0] for item in df_miss.dtypes if item[1].startswith('int') | item[1].startswith('double')] #will select name of column with integer or double data type\n",
    "print(\"numerical columns_miss:\", numcolumns_miss)"
   ]
  },
  {
   "cell_type": "markdown",
   "source": [
    "## Data Preprocessing: Filling Missing Values\n",
    "\n",
    "We fill the missing values in numerical columns with the median of the column. This is one strategy to handle missing data.\n"
   ],
   "metadata": {
    "collapsed": false
   },
   "id": "815dd30ad96ba4c6"
  },
  {
   "cell_type": "code",
   "execution_count": 16,
   "id": "f135ddd9-5b59-498e-a311-1776aac66ce8",
   "metadata": {},
   "outputs": [
    {
     "name": "stderr",
     "output_type": "stream",
     "text": [
      "                                                                                \r"
     ]
    },
    {
     "name": "stdout",
     "output_type": "stream",
     "text": [
      "NAME_TYPE_SUITE Unaccompanied\n"
     ]
    },
    {
     "name": "stderr",
     "output_type": "stream",
     "text": [
      "                                                                                \r"
     ]
    },
    {
     "name": "stdout",
     "output_type": "stream",
     "text": [
      "OCCUPATION_TYPE Laborers\n"
     ]
    },
    {
     "name": "stderr",
     "output_type": "stream",
     "text": [
      "                                                                                \r"
     ]
    },
    {
     "name": "stdout",
     "output_type": "stream",
     "text": [
      "FONDKAPREMONT_MODE reg oper account\n"
     ]
    },
    {
     "name": "stderr",
     "output_type": "stream",
     "text": [
      "                                                                                \r"
     ]
    },
    {
     "name": "stdout",
     "output_type": "stream",
     "text": [
      "HOUSETYPE_MODE block of flats\n"
     ]
    },
    {
     "name": "stderr",
     "output_type": "stream",
     "text": [
      "                                                                                \r"
     ]
    },
    {
     "name": "stdout",
     "output_type": "stream",
     "text": [
      "WALLSMATERIAL_MODE Panel\n",
      "EMERGENCYSTATE_MODE No\n"
     ]
    },
    {
     "name": "stderr",
     "output_type": "stream",
     "text": [
      "                                                                                \r"
     ]
    }
   ],
   "source": [
    "# (1) categorical --> the most frequent category\n",
    "\n",
    "from pyspark.sql.functions import rank,sum,col\n",
    "df_Nomiss=new_df.na.drop()\n",
    "for x in catcolums_miss:                  \n",
    "    mode=df_Nomiss.groupBy(x).count().sort(col(\"count\").desc()).collect()[0][0] \n",
    "    print(x, mode) #print name of columns and it's most categories \n",
    "    new_df = new_df.na.fill({x:mode})\n"
   ]
  },
  {
   "cell_type": "code",
   "execution_count": 17,
   "id": "1e084372-a9bf-42ff-a2c9-a2c6fd54b587",
   "metadata": {},
   "outputs": [
    {
     "name": "stdout",
     "output_type": "stream",
     "text": [
      "AMT_ANNUITY 27109.0\n",
      "AMT_GOODS_PRICE 538396.0\n",
      "OWN_CAR_AGE 12.0\n",
      "CNT_FAM_MEMBERS 2.0\n",
      "EXT_SOURCE_1 1.0\n",
      "EXT_SOURCE_2 1.0\n",
      "EXT_SOURCE_3 1.0\n",
      "APARTMENTS_AVG 0.0\n",
      "BASEMENTAREA_AVG 0.0\n",
      "YEARS_BEGINEXPLUATATION_AVG 1.0\n",
      "YEARS_BUILD_AVG 1.0\n",
      "COMMONAREA_AVG 0.0\n",
      "ELEVATORS_AVG 0.0\n",
      "ENTRANCES_AVG 0.0\n",
      "FLOORSMAX_AVG 0.0\n",
      "FLOORSMIN_AVG 0.0\n",
      "LANDAREA_AVG 0.0\n",
      "LIVINGAPARTMENTS_AVG 0.0\n",
      "LIVINGAREA_AVG 0.0\n",
      "NONLIVINGAPARTMENTS_AVG 0.0\n",
      "NONLIVINGAREA_AVG 0.0\n",
      "APARTMENTS_MODE 0.0\n",
      "BASEMENTAREA_MODE 0.0\n",
      "YEARS_BEGINEXPLUATATION_MODE 1.0\n",
      "YEARS_BUILD_MODE 1.0\n",
      "COMMONAREA_MODE 0.0\n",
      "ELEVATORS_MODE 0.0\n",
      "ENTRANCES_MODE 0.0\n",
      "FLOORSMAX_MODE 0.0\n",
      "FLOORSMIN_MODE 0.0\n",
      "LANDAREA_MODE 0.0\n",
      "LIVINGAPARTMENTS_MODE 0.0\n",
      "LIVINGAREA_MODE 0.0\n",
      "NONLIVINGAPARTMENTS_MODE 0.0\n",
      "NONLIVINGAREA_MODE 0.0\n",
      "APARTMENTS_MEDI 0.0\n",
      "BASEMENTAREA_MEDI 0.0\n",
      "YEARS_BEGINEXPLUATATION_MEDI 1.0\n",
      "YEARS_BUILD_MEDI 1.0\n",
      "COMMONAREA_MEDI 0.0\n",
      "ELEVATORS_MEDI 0.0\n",
      "ENTRANCES_MEDI 0.0\n",
      "FLOORSMAX_MEDI 0.0\n",
      "FLOORSMIN_MEDI 0.0\n",
      "LANDAREA_MEDI 0.0\n",
      "LIVINGAPARTMENTS_MEDI 0.0\n",
      "LIVINGAREA_MEDI 0.0\n",
      "NONLIVINGAPARTMENTS_MEDI 0.0\n",
      "NONLIVINGAREA_MEDI 0.0\n",
      "TOTALAREA_MODE 0.0\n",
      "OBS_30_CNT_SOCIAL_CIRCLE 1.0\n",
      "DEF_30_CNT_SOCIAL_CIRCLE 0.0\n",
      "OBS_60_CNT_SOCIAL_CIRCLE 1.0\n",
      "DEF_60_CNT_SOCIAL_CIRCLE 0.0\n",
      "DAYS_LAST_PHONE_CHANGE -963.0\n",
      "AMT_REQ_CREDIT_BUREAU_HOUR 0.0\n",
      "AMT_REQ_CREDIT_BUREAU_DAY 0.0\n",
      "AMT_REQ_CREDIT_BUREAU_WEEK 0.0\n",
      "AMT_REQ_CREDIT_BUREAU_MON 0.0\n",
      "AMT_REQ_CREDIT_BUREAU_QRT 0.0\n",
      "AMT_REQ_CREDIT_BUREAU_YEAR 2.0\n"
     ]
    }
   ],
   "source": [
    "# (2) numerical --> average value of each column\n",
    "\n",
    "from pyspark.sql.functions import mean, round\n",
    "for i in numcolumns_miss:\n",
    "    meanvalue = new_df.select(round(mean(i))).collect()[0][0] \n",
    "    print(i, meanvalue) \n",
    "    new_df=new_df.na.fill({i:meanvalue})"
   ]
  },
  {
   "cell_type": "code",
   "execution_count": null,
   "outputs": [],
   "source": [],
   "metadata": {
    "collapsed": false
   },
   "id": "3d21517d88912d94"
  },
  {
   "cell_type": "markdown",
   "source": [
    "## Data Preprocessing: Filling Missing Values\n",
    "\n",
    "We fill the missing values in numerical columns with the median of the column. This is one strategy to handle missing data.\n"
   ],
   "metadata": {
    "collapsed": false
   },
   "id": "ffbc5ea0b0da29dd"
  },
  {
   "cell_type": "code",
   "execution_count": null,
   "outputs": [],
   "source": [],
   "metadata": {
    "collapsed": false
   },
   "id": "428bf4df7892551c"
  },
  {
   "cell_type": "code",
   "execution_count": null,
   "outputs": [],
   "source": [
    "## Weight Balancing for Classes\n",
    "\n",
    "To handle class imbalance, we add a new column 'weights' to the DataFrame. We calculate the weight for each class to balance them.\n"
   ],
   "metadata": {
    "collapsed": false
   },
   "id": "c8a70b498fed1fc1"
  },
  {
   "cell_type": "code",
   "execution_count": 18,
   "id": "9c0d0965-d426-4dfa-960f-97e24608d7e9",
   "metadata": {},
   "outputs": [],
   "source": [
    "# adding the new column weights and fill it with ratios\n",
    "from pyspark.sql.functions import when\n",
    "ratio = 0.91\n",
    "def weight_balance(labels):\n",
    "    return when(labels == 1, ratio).otherwise(1*(1-ratio))\n",
    "new_df = new_df.withColumn('weights', weight_balance(col('label')))\n"
   ]
  },
  {
   "cell_type": "code",
   "execution_count": 19,
   "id": "a143dcb5-26c0-44f9-8f11-9677f4ee7186",
   "metadata": {},
   "outputs": [
    {
     "data": {
      "text/html": [
       "<div>\n",
       "<style scoped>\n",
       "    .dataframe tbody tr th:only-of-type {\n",
       "        vertical-align: middle;\n",
       "    }\n",
       "\n",
       "    .dataframe tbody tr th {\n",
       "        vertical-align: top;\n",
       "    }\n",
       "\n",
       "    .dataframe thead th {\n",
       "        text-align: right;\n",
       "    }\n",
       "</style>\n",
       "<table border=\"1\" class=\"dataframe\">\n",
       "  <thead>\n",
       "    <tr style=\"text-align: right;\">\n",
       "      <th></th>\n",
       "      <th>label</th>\n",
       "      <th>NAME_CONTRACT_TYPE</th>\n",
       "      <th>CODE_GENDER</th>\n",
       "      <th>FLAG_OWN_CAR</th>\n",
       "      <th>FLAG_OWN_REALTY</th>\n",
       "      <th>CNT_CHILDREN</th>\n",
       "      <th>AMT_INCOME_TOTAL</th>\n",
       "      <th>AMT_CREDIT</th>\n",
       "      <th>AMT_ANNUITY</th>\n",
       "      <th>AMT_GOODS_PRICE</th>\n",
       "      <th>...</th>\n",
       "      <th>FLAG_DOCUMENT_19</th>\n",
       "      <th>FLAG_DOCUMENT_20</th>\n",
       "      <th>FLAG_DOCUMENT_21</th>\n",
       "      <th>AMT_REQ_CREDIT_BUREAU_HOUR</th>\n",
       "      <th>AMT_REQ_CREDIT_BUREAU_DAY</th>\n",
       "      <th>AMT_REQ_CREDIT_BUREAU_WEEK</th>\n",
       "      <th>AMT_REQ_CREDIT_BUREAU_MON</th>\n",
       "      <th>AMT_REQ_CREDIT_BUREAU_QRT</th>\n",
       "      <th>AMT_REQ_CREDIT_BUREAU_YEAR</th>\n",
       "      <th>weights</th>\n",
       "    </tr>\n",
       "  </thead>\n",
       "  <tbody>\n",
       "    <tr>\n",
       "      <th>0</th>\n",
       "      <td>1</td>\n",
       "      <td>Cash loans</td>\n",
       "      <td>M</td>\n",
       "      <td>N</td>\n",
       "      <td>Y</td>\n",
       "      <td>0</td>\n",
       "      <td>202500.0</td>\n",
       "      <td>406597.5</td>\n",
       "      <td>24700.5</td>\n",
       "      <td>351000.0</td>\n",
       "      <td>...</td>\n",
       "      <td>0</td>\n",
       "      <td>0</td>\n",
       "      <td>0</td>\n",
       "      <td>0.0</td>\n",
       "      <td>0.0</td>\n",
       "      <td>0.0</td>\n",
       "      <td>0.0</td>\n",
       "      <td>0.0</td>\n",
       "      <td>1.0</td>\n",
       "      <td>0.91</td>\n",
       "    </tr>\n",
       "    <tr>\n",
       "      <th>1</th>\n",
       "      <td>0</td>\n",
       "      <td>Cash loans</td>\n",
       "      <td>F</td>\n",
       "      <td>N</td>\n",
       "      <td>N</td>\n",
       "      <td>0</td>\n",
       "      <td>270000.0</td>\n",
       "      <td>1293502.5</td>\n",
       "      <td>35698.5</td>\n",
       "      <td>1129500.0</td>\n",
       "      <td>...</td>\n",
       "      <td>0</td>\n",
       "      <td>0</td>\n",
       "      <td>0</td>\n",
       "      <td>0.0</td>\n",
       "      <td>0.0</td>\n",
       "      <td>0.0</td>\n",
       "      <td>0.0</td>\n",
       "      <td>0.0</td>\n",
       "      <td>0.0</td>\n",
       "      <td>0.09</td>\n",
       "    </tr>\n",
       "    <tr>\n",
       "      <th>2</th>\n",
       "      <td>0</td>\n",
       "      <td>Revolving loans</td>\n",
       "      <td>M</td>\n",
       "      <td>Y</td>\n",
       "      <td>Y</td>\n",
       "      <td>0</td>\n",
       "      <td>67500.0</td>\n",
       "      <td>135000.0</td>\n",
       "      <td>6750.0</td>\n",
       "      <td>135000.0</td>\n",
       "      <td>...</td>\n",
       "      <td>0</td>\n",
       "      <td>0</td>\n",
       "      <td>0</td>\n",
       "      <td>0.0</td>\n",
       "      <td>0.0</td>\n",
       "      <td>0.0</td>\n",
       "      <td>0.0</td>\n",
       "      <td>0.0</td>\n",
       "      <td>0.0</td>\n",
       "      <td>0.09</td>\n",
       "    </tr>\n",
       "    <tr>\n",
       "      <th>3</th>\n",
       "      <td>0</td>\n",
       "      <td>Cash loans</td>\n",
       "      <td>F</td>\n",
       "      <td>N</td>\n",
       "      <td>Y</td>\n",
       "      <td>0</td>\n",
       "      <td>135000.0</td>\n",
       "      <td>312682.5</td>\n",
       "      <td>29686.5</td>\n",
       "      <td>297000.0</td>\n",
       "      <td>...</td>\n",
       "      <td>0</td>\n",
       "      <td>0</td>\n",
       "      <td>0</td>\n",
       "      <td>0.0</td>\n",
       "      <td>0.0</td>\n",
       "      <td>0.0</td>\n",
       "      <td>0.0</td>\n",
       "      <td>0.0</td>\n",
       "      <td>2.0</td>\n",
       "      <td>0.09</td>\n",
       "    </tr>\n",
       "    <tr>\n",
       "      <th>4</th>\n",
       "      <td>0</td>\n",
       "      <td>Cash loans</td>\n",
       "      <td>M</td>\n",
       "      <td>N</td>\n",
       "      <td>Y</td>\n",
       "      <td>0</td>\n",
       "      <td>121500.0</td>\n",
       "      <td>513000.0</td>\n",
       "      <td>21865.5</td>\n",
       "      <td>513000.0</td>\n",
       "      <td>...</td>\n",
       "      <td>0</td>\n",
       "      <td>0</td>\n",
       "      <td>0</td>\n",
       "      <td>0.0</td>\n",
       "      <td>0.0</td>\n",
       "      <td>0.0</td>\n",
       "      <td>0.0</td>\n",
       "      <td>0.0</td>\n",
       "      <td>0.0</td>\n",
       "      <td>0.09</td>\n",
       "    </tr>\n",
       "    <tr>\n",
       "      <th>5</th>\n",
       "      <td>0</td>\n",
       "      <td>Cash loans</td>\n",
       "      <td>M</td>\n",
       "      <td>N</td>\n",
       "      <td>Y</td>\n",
       "      <td>0</td>\n",
       "      <td>99000.0</td>\n",
       "      <td>490495.5</td>\n",
       "      <td>27517.5</td>\n",
       "      <td>454500.0</td>\n",
       "      <td>...</td>\n",
       "      <td>0</td>\n",
       "      <td>0</td>\n",
       "      <td>0</td>\n",
       "      <td>0.0</td>\n",
       "      <td>0.0</td>\n",
       "      <td>0.0</td>\n",
       "      <td>0.0</td>\n",
       "      <td>1.0</td>\n",
       "      <td>1.0</td>\n",
       "      <td>0.09</td>\n",
       "    </tr>\n",
       "    <tr>\n",
       "      <th>6</th>\n",
       "      <td>0</td>\n",
       "      <td>Cash loans</td>\n",
       "      <td>F</td>\n",
       "      <td>Y</td>\n",
       "      <td>Y</td>\n",
       "      <td>1</td>\n",
       "      <td>171000.0</td>\n",
       "      <td>1560726.0</td>\n",
       "      <td>41301.0</td>\n",
       "      <td>1395000.0</td>\n",
       "      <td>...</td>\n",
       "      <td>0</td>\n",
       "      <td>0</td>\n",
       "      <td>0</td>\n",
       "      <td>0.0</td>\n",
       "      <td>0.0</td>\n",
       "      <td>0.0</td>\n",
       "      <td>1.0</td>\n",
       "      <td>1.0</td>\n",
       "      <td>2.0</td>\n",
       "      <td>0.09</td>\n",
       "    </tr>\n",
       "    <tr>\n",
       "      <th>7</th>\n",
       "      <td>0</td>\n",
       "      <td>Cash loans</td>\n",
       "      <td>M</td>\n",
       "      <td>Y</td>\n",
       "      <td>Y</td>\n",
       "      <td>0</td>\n",
       "      <td>360000.0</td>\n",
       "      <td>1530000.0</td>\n",
       "      <td>42075.0</td>\n",
       "      <td>1530000.0</td>\n",
       "      <td>...</td>\n",
       "      <td>0</td>\n",
       "      <td>0</td>\n",
       "      <td>0</td>\n",
       "      <td>0.0</td>\n",
       "      <td>0.0</td>\n",
       "      <td>0.0</td>\n",
       "      <td>0.0</td>\n",
       "      <td>0.0</td>\n",
       "      <td>0.0</td>\n",
       "      <td>0.09</td>\n",
       "    </tr>\n",
       "    <tr>\n",
       "      <th>8</th>\n",
       "      <td>0</td>\n",
       "      <td>Cash loans</td>\n",
       "      <td>F</td>\n",
       "      <td>N</td>\n",
       "      <td>Y</td>\n",
       "      <td>0</td>\n",
       "      <td>112500.0</td>\n",
       "      <td>1019610.0</td>\n",
       "      <td>33826.5</td>\n",
       "      <td>913500.0</td>\n",
       "      <td>...</td>\n",
       "      <td>0</td>\n",
       "      <td>0</td>\n",
       "      <td>0</td>\n",
       "      <td>0.0</td>\n",
       "      <td>0.0</td>\n",
       "      <td>0.0</td>\n",
       "      <td>0.0</td>\n",
       "      <td>0.0</td>\n",
       "      <td>1.0</td>\n",
       "      <td>0.09</td>\n",
       "    </tr>\n",
       "    <tr>\n",
       "      <th>9</th>\n",
       "      <td>0</td>\n",
       "      <td>Revolving loans</td>\n",
       "      <td>M</td>\n",
       "      <td>N</td>\n",
       "      <td>Y</td>\n",
       "      <td>0</td>\n",
       "      <td>135000.0</td>\n",
       "      <td>405000.0</td>\n",
       "      <td>20250.0</td>\n",
       "      <td>405000.0</td>\n",
       "      <td>...</td>\n",
       "      <td>0</td>\n",
       "      <td>0</td>\n",
       "      <td>0</td>\n",
       "      <td>0.0</td>\n",
       "      <td>0.0</td>\n",
       "      <td>0.0</td>\n",
       "      <td>0.0</td>\n",
       "      <td>0.0</td>\n",
       "      <td>2.0</td>\n",
       "      <td>0.09</td>\n",
       "    </tr>\n",
       "  </tbody>\n",
       "</table>\n",
       "<p>10 rows × 122 columns</p>\n",
       "</div>"
      ],
      "text/plain": [
       "   label NAME_CONTRACT_TYPE CODE_GENDER FLAG_OWN_CAR FLAG_OWN_REALTY  \\\n",
       "0      1         Cash loans           M            N               Y   \n",
       "1      0         Cash loans           F            N               N   \n",
       "2      0    Revolving loans           M            Y               Y   \n",
       "3      0         Cash loans           F            N               Y   \n",
       "4      0         Cash loans           M            N               Y   \n",
       "5      0         Cash loans           M            N               Y   \n",
       "6      0         Cash loans           F            Y               Y   \n",
       "7      0         Cash loans           M            Y               Y   \n",
       "8      0         Cash loans           F            N               Y   \n",
       "9      0    Revolving loans           M            N               Y   \n",
       "\n",
       "   CNT_CHILDREN  AMT_INCOME_TOTAL  AMT_CREDIT  AMT_ANNUITY  AMT_GOODS_PRICE  \\\n",
       "0             0          202500.0    406597.5      24700.5         351000.0   \n",
       "1             0          270000.0   1293502.5      35698.5        1129500.0   \n",
       "2             0           67500.0    135000.0       6750.0         135000.0   \n",
       "3             0          135000.0    312682.5      29686.5         297000.0   \n",
       "4             0          121500.0    513000.0      21865.5         513000.0   \n",
       "5             0           99000.0    490495.5      27517.5         454500.0   \n",
       "6             1          171000.0   1560726.0      41301.0        1395000.0   \n",
       "7             0          360000.0   1530000.0      42075.0        1530000.0   \n",
       "8             0          112500.0   1019610.0      33826.5         913500.0   \n",
       "9             0          135000.0    405000.0      20250.0         405000.0   \n",
       "\n",
       "   ... FLAG_DOCUMENT_19 FLAG_DOCUMENT_20 FLAG_DOCUMENT_21  \\\n",
       "0  ...                0                0                0   \n",
       "1  ...                0                0                0   \n",
       "2  ...                0                0                0   \n",
       "3  ...                0                0                0   \n",
       "4  ...                0                0                0   \n",
       "5  ...                0                0                0   \n",
       "6  ...                0                0                0   \n",
       "7  ...                0                0                0   \n",
       "8  ...                0                0                0   \n",
       "9  ...                0                0                0   \n",
       "\n",
       "  AMT_REQ_CREDIT_BUREAU_HOUR AMT_REQ_CREDIT_BUREAU_DAY  \\\n",
       "0                        0.0                       0.0   \n",
       "1                        0.0                       0.0   \n",
       "2                        0.0                       0.0   \n",
       "3                        0.0                       0.0   \n",
       "4                        0.0                       0.0   \n",
       "5                        0.0                       0.0   \n",
       "6                        0.0                       0.0   \n",
       "7                        0.0                       0.0   \n",
       "8                        0.0                       0.0   \n",
       "9                        0.0                       0.0   \n",
       "\n",
       "   AMT_REQ_CREDIT_BUREAU_WEEK  AMT_REQ_CREDIT_BUREAU_MON  \\\n",
       "0                         0.0                        0.0   \n",
       "1                         0.0                        0.0   \n",
       "2                         0.0                        0.0   \n",
       "3                         0.0                        0.0   \n",
       "4                         0.0                        0.0   \n",
       "5                         0.0                        0.0   \n",
       "6                         0.0                        1.0   \n",
       "7                         0.0                        0.0   \n",
       "8                         0.0                        0.0   \n",
       "9                         0.0                        0.0   \n",
       "\n",
       "   AMT_REQ_CREDIT_BUREAU_QRT  AMT_REQ_CREDIT_BUREAU_YEAR  weights  \n",
       "0                        0.0                         1.0     0.91  \n",
       "1                        0.0                         0.0     0.09  \n",
       "2                        0.0                         0.0     0.09  \n",
       "3                        0.0                         2.0     0.09  \n",
       "4                        0.0                         0.0     0.09  \n",
       "5                        1.0                         1.0     0.09  \n",
       "6                        1.0                         2.0     0.09  \n",
       "7                        0.0                         0.0     0.09  \n",
       "8                        0.0                         1.0     0.09  \n",
       "9                        0.0                         2.0     0.09  \n",
       "\n",
       "[10 rows x 122 columns]"
      ]
     },
     "execution_count": 19,
     "metadata": {},
     "output_type": "execute_result"
    }
   ],
   "source": [
    "pd.DataFrame(new_df.take(10), columns= new_df.columns)"
   ]
  },
  {
   "cell_type": "markdown",
   "source": [
    "## String Indexing for Categorical Columns\n",
    "\n",
    "Before feeding the data into a machine learning model, we need to convert categorical features into a format that can be provided to machine learning algorithms. We use String Indexing for this purpose.\n"
   ],
   "metadata": {
    "collapsed": false
   },
   "id": "a0decce9b644890f"
  },
  {
   "cell_type": "code",
   "execution_count": 20,
   "id": "ed18ea66-3943-48a2-aef2-b572f2d9e840",
   "metadata": {},
   "outputs": [],
   "source": [
    "# we use the OneHotEncoderEstimator from MLlib in spark to convert #aech v=categorical feature into one-hot vectors\n",
    "# next, we use VectorAssembler to combine the resulted one-hot ector #and the rest of numerical features into a \n",
    "# single vector column. we append every step of the process in a #stages array\n",
    "from pyspark.ml.feature import OneHotEncoder, StringIndexer, VectorAssembler\n",
    "stages = []\n",
    "for categoricalCol in cat_cols:\n",
    "    stringIndexer = StringIndexer(inputCol = categoricalCol, outputCol = categoricalCol + 'Index')\n",
    "    encoder = OneHotEncoder(inputCols=[stringIndexer.getOutputCol()], outputCols=[categoricalCol + \"classVec\"])\n",
    "    stages += [stringIndexer, encoder]\n",
    "    \n",
    "assemblerInputs = [c + \"classVec\" for c in cat_cols] + num_cols\n",
    "assembler = VectorAssembler(inputCols=assemblerInputs, outputCol=\"features\")\n",
    "stages += [assembler]\n"
   ]
  },
  {
   "cell_type": "code",
   "execution_count": null,
   "outputs": [],
   "source": [],
   "metadata": {
    "collapsed": false
   },
   "id": "dc83db67de1c6ab8"
  },
  {
   "cell_type": "code",
   "execution_count": null,
   "outputs": [],
   "source": [
    "## Feature Engineering: Assembling Vectors\n",
    "\n",
    "We assemble all the feature columns into a single vector column. This is a required step before feeding the data into a Spark ML algorithm.\n"
   ],
   "metadata": {
    "collapsed": false
   },
   "id": "4dc5c5780323e65d"
  },
  {
   "cell_type": "code",
   "execution_count": 21,
   "id": "79e313b1-68a7-43ed-b7ed-55a21aeccec9",
   "metadata": {},
   "outputs": [],
   "source": [
    "from pyspark.ml import Pipeline\n",
    "cols = new_df.columns\n",
    "pipeline = Pipeline(stages = stages)\n",
    "pipelineModel = pipeline.fit(new_df)\n",
    "new_df = pipelineModel.transform(new_df)\n"
   ]
  },
  {
   "cell_type": "code",
   "execution_count": 22,
   "id": "b22de7df-74f6-40d9-8c05-a7333e5189b0",
   "metadata": {},
   "outputs": [
    {
     "name": "stderr",
     "output_type": "stream",
     "text": [
      "                                                                                \r"
     ]
    },
    {
     "data": {
      "text/html": [
       "<div>\n",
       "<style scoped>\n",
       "    .dataframe tbody tr th:only-of-type {\n",
       "        vertical-align: middle;\n",
       "    }\n",
       "\n",
       "    .dataframe tbody tr th {\n",
       "        vertical-align: top;\n",
       "    }\n",
       "\n",
       "    .dataframe thead th {\n",
       "        text-align: right;\n",
       "    }\n",
       "</style>\n",
       "<table border=\"1\" class=\"dataframe\">\n",
       "  <thead>\n",
       "    <tr style=\"text-align: right;\">\n",
       "      <th></th>\n",
       "      <th>features</th>\n",
       "      <th>label</th>\n",
       "      <th>NAME_CONTRACT_TYPE</th>\n",
       "      <th>CODE_GENDER</th>\n",
       "      <th>FLAG_OWN_CAR</th>\n",
       "      <th>FLAG_OWN_REALTY</th>\n",
       "      <th>CNT_CHILDREN</th>\n",
       "      <th>AMT_INCOME_TOTAL</th>\n",
       "      <th>AMT_CREDIT</th>\n",
       "      <th>AMT_ANNUITY</th>\n",
       "      <th>...</th>\n",
       "      <th>FLAG_DOCUMENT_19</th>\n",
       "      <th>FLAG_DOCUMENT_20</th>\n",
       "      <th>FLAG_DOCUMENT_21</th>\n",
       "      <th>AMT_REQ_CREDIT_BUREAU_HOUR</th>\n",
       "      <th>AMT_REQ_CREDIT_BUREAU_DAY</th>\n",
       "      <th>AMT_REQ_CREDIT_BUREAU_WEEK</th>\n",
       "      <th>AMT_REQ_CREDIT_BUREAU_MON</th>\n",
       "      <th>AMT_REQ_CREDIT_BUREAU_QRT</th>\n",
       "      <th>AMT_REQ_CREDIT_BUREAU_YEAR</th>\n",
       "      <th>weights</th>\n",
       "    </tr>\n",
       "  </thead>\n",
       "  <tbody>\n",
       "    <tr>\n",
       "      <th>0</th>\n",
       "      <td>(1.0, 0.0, 1.0, 1.0, 1.0, 1.0, 0.0, 0.0, 0.0, ...</td>\n",
       "      <td>1</td>\n",
       "      <td>Cash loans</td>\n",
       "      <td>M</td>\n",
       "      <td>N</td>\n",
       "      <td>Y</td>\n",
       "      <td>0</td>\n",
       "      <td>202500.0</td>\n",
       "      <td>406597.5</td>\n",
       "      <td>24700.5</td>\n",
       "      <td>...</td>\n",
       "      <td>0</td>\n",
       "      <td>0</td>\n",
       "      <td>0</td>\n",
       "      <td>0.0</td>\n",
       "      <td>0.0</td>\n",
       "      <td>0.0</td>\n",
       "      <td>0.0</td>\n",
       "      <td>0.0</td>\n",
       "      <td>1.0</td>\n",
       "      <td>0.91</td>\n",
       "    </tr>\n",
       "    <tr>\n",
       "      <th>1</th>\n",
       "      <td>(1.0, 1.0, 0.0, 1.0, 0.0, 0.0, 1.0, 0.0, 0.0, ...</td>\n",
       "      <td>0</td>\n",
       "      <td>Cash loans</td>\n",
       "      <td>F</td>\n",
       "      <td>N</td>\n",
       "      <td>N</td>\n",
       "      <td>0</td>\n",
       "      <td>270000.0</td>\n",
       "      <td>1293502.5</td>\n",
       "      <td>35698.5</td>\n",
       "      <td>...</td>\n",
       "      <td>0</td>\n",
       "      <td>0</td>\n",
       "      <td>0</td>\n",
       "      <td>0.0</td>\n",
       "      <td>0.0</td>\n",
       "      <td>0.0</td>\n",
       "      <td>0.0</td>\n",
       "      <td>0.0</td>\n",
       "      <td>0.0</td>\n",
       "      <td>0.09</td>\n",
       "    </tr>\n",
       "    <tr>\n",
       "      <th>2</th>\n",
       "      <td>(0.0, 0.0, 1.0, 0.0, 1.0, 1.0, 0.0, 0.0, 0.0, ...</td>\n",
       "      <td>0</td>\n",
       "      <td>Revolving loans</td>\n",
       "      <td>M</td>\n",
       "      <td>Y</td>\n",
       "      <td>Y</td>\n",
       "      <td>0</td>\n",
       "      <td>67500.0</td>\n",
       "      <td>135000.0</td>\n",
       "      <td>6750.0</td>\n",
       "      <td>...</td>\n",
       "      <td>0</td>\n",
       "      <td>0</td>\n",
       "      <td>0</td>\n",
       "      <td>0.0</td>\n",
       "      <td>0.0</td>\n",
       "      <td>0.0</td>\n",
       "      <td>0.0</td>\n",
       "      <td>0.0</td>\n",
       "      <td>0.0</td>\n",
       "      <td>0.09</td>\n",
       "    </tr>\n",
       "    <tr>\n",
       "      <th>3</th>\n",
       "      <td>(1.0, 1.0, 0.0, 1.0, 1.0, 1.0, 0.0, 0.0, 0.0, ...</td>\n",
       "      <td>0</td>\n",
       "      <td>Cash loans</td>\n",
       "      <td>F</td>\n",
       "      <td>N</td>\n",
       "      <td>Y</td>\n",
       "      <td>0</td>\n",
       "      <td>135000.0</td>\n",
       "      <td>312682.5</td>\n",
       "      <td>29686.5</td>\n",
       "      <td>...</td>\n",
       "      <td>0</td>\n",
       "      <td>0</td>\n",
       "      <td>0</td>\n",
       "      <td>0.0</td>\n",
       "      <td>0.0</td>\n",
       "      <td>0.0</td>\n",
       "      <td>0.0</td>\n",
       "      <td>0.0</td>\n",
       "      <td>2.0</td>\n",
       "      <td>0.09</td>\n",
       "    </tr>\n",
       "    <tr>\n",
       "      <th>4</th>\n",
       "      <td>(1.0, 0.0, 1.0, 1.0, 1.0, 1.0, 0.0, 0.0, 0.0, ...</td>\n",
       "      <td>0</td>\n",
       "      <td>Cash loans</td>\n",
       "      <td>M</td>\n",
       "      <td>N</td>\n",
       "      <td>Y</td>\n",
       "      <td>0</td>\n",
       "      <td>121500.0</td>\n",
       "      <td>513000.0</td>\n",
       "      <td>21865.5</td>\n",
       "      <td>...</td>\n",
       "      <td>0</td>\n",
       "      <td>0</td>\n",
       "      <td>0</td>\n",
       "      <td>0.0</td>\n",
       "      <td>0.0</td>\n",
       "      <td>0.0</td>\n",
       "      <td>0.0</td>\n",
       "      <td>0.0</td>\n",
       "      <td>0.0</td>\n",
       "      <td>0.09</td>\n",
       "    </tr>\n",
       "  </tbody>\n",
       "</table>\n",
       "<p>5 rows × 123 columns</p>\n",
       "</div>"
      ],
      "text/plain": [
       "                                            features  label  \\\n",
       "0  (1.0, 0.0, 1.0, 1.0, 1.0, 1.0, 0.0, 0.0, 0.0, ...      1   \n",
       "1  (1.0, 1.0, 0.0, 1.0, 0.0, 0.0, 1.0, 0.0, 0.0, ...      0   \n",
       "2  (0.0, 0.0, 1.0, 0.0, 1.0, 1.0, 0.0, 0.0, 0.0, ...      0   \n",
       "3  (1.0, 1.0, 0.0, 1.0, 1.0, 1.0, 0.0, 0.0, 0.0, ...      0   \n",
       "4  (1.0, 0.0, 1.0, 1.0, 1.0, 1.0, 0.0, 0.0, 0.0, ...      0   \n",
       "\n",
       "  NAME_CONTRACT_TYPE CODE_GENDER FLAG_OWN_CAR FLAG_OWN_REALTY  CNT_CHILDREN  \\\n",
       "0         Cash loans           M            N               Y             0   \n",
       "1         Cash loans           F            N               N             0   \n",
       "2    Revolving loans           M            Y               Y             0   \n",
       "3         Cash loans           F            N               Y             0   \n",
       "4         Cash loans           M            N               Y             0   \n",
       "\n",
       "   AMT_INCOME_TOTAL  AMT_CREDIT  AMT_ANNUITY  ...  FLAG_DOCUMENT_19  \\\n",
       "0          202500.0    406597.5      24700.5  ...                 0   \n",
       "1          270000.0   1293502.5      35698.5  ...                 0   \n",
       "2           67500.0    135000.0       6750.0  ...                 0   \n",
       "3          135000.0    312682.5      29686.5  ...                 0   \n",
       "4          121500.0    513000.0      21865.5  ...                 0   \n",
       "\n",
       "  FLAG_DOCUMENT_20 FLAG_DOCUMENT_21 AMT_REQ_CREDIT_BUREAU_HOUR  \\\n",
       "0                0                0                        0.0   \n",
       "1                0                0                        0.0   \n",
       "2                0                0                        0.0   \n",
       "3                0                0                        0.0   \n",
       "4                0                0                        0.0   \n",
       "\n",
       "  AMT_REQ_CREDIT_BUREAU_DAY AMT_REQ_CREDIT_BUREAU_WEEK  \\\n",
       "0                       0.0                        0.0   \n",
       "1                       0.0                        0.0   \n",
       "2                       0.0                        0.0   \n",
       "3                       0.0                        0.0   \n",
       "4                       0.0                        0.0   \n",
       "\n",
       "   AMT_REQ_CREDIT_BUREAU_MON  AMT_REQ_CREDIT_BUREAU_QRT  \\\n",
       "0                        0.0                        0.0   \n",
       "1                        0.0                        0.0   \n",
       "2                        0.0                        0.0   \n",
       "3                        0.0                        0.0   \n",
       "4                        0.0                        0.0   \n",
       "\n",
       "   AMT_REQ_CREDIT_BUREAU_YEAR  weights  \n",
       "0                         1.0     0.91  \n",
       "1                         0.0     0.09  \n",
       "2                         0.0     0.09  \n",
       "3                         2.0     0.09  \n",
       "4                         0.0     0.09  \n",
       "\n",
       "[5 rows x 123 columns]"
      ]
     },
     "execution_count": 22,
     "metadata": {},
     "output_type": "execute_result"
    }
   ],
   "source": [
    "selectedCols = ['features']+cols\n",
    "new_df = new_df.select(selectedCols)\n",
    "\n",
    "# New dataset after feature engineering:\n",
    "pd.DataFrame(new_df.take(5), columns=new_df.columns)\n"
   ]
  },
  {
   "cell_type": "code",
   "execution_count": null,
   "outputs": [],
   "source": [],
   "metadata": {
    "collapsed": false
   },
   "id": "1fdaad5d594b8ffb"
  },
  {
   "cell_type": "code",
   "execution_count": 23,
   "id": "30a4d005-25ac-43fb-a132-d77c40bcead6",
   "metadata": {},
   "outputs": [
    {
     "name": "stderr",
     "output_type": "stream",
     "text": [
      "                                                                                \r"
     ]
    },
    {
     "name": "stdout",
     "output_type": "stream",
     "text": [
      "246475\n"
     ]
    },
    {
     "name": "stderr",
     "output_type": "stream",
     "text": [
      "                                                                                \r"
     ]
    },
    {
     "name": "stdout",
     "output_type": "stream",
     "text": [
      "61036\n"
     ]
    },
    {
     "name": "stderr",
     "output_type": "stream",
     "text": [
      "                                                                                \r"
     ]
    }
   ],
   "source": [
    "\n",
    "\n"
   ]
  },
  {
   "cell_type": "code",
   "execution_count": null,
   "outputs": [],
   "source": [
    "## Train-Test Split\n",
    "\n",
    "We split the dataset into training and testing sets. This allows us to train the model on one subset and test it on another to evaluate its performance.\n"
   ],
   "metadata": {
    "collapsed": false
   },
   "id": "e47a2258024e4b56"
  },
  {
   "cell_type": "code",
   "execution_count": null,
   "outputs": [],
   "source": [
    "# split the data into trainign and testin sets\n",
    "train, test = new_df.randomSplit([0.80, 0.20], seed = 42)\n",
    "print(train.count())\n",
    "print(test.count())"
   ],
   "metadata": {
    "collapsed": false
   },
   "id": "777550e24e4243b6"
  },
  {
   "cell_type": "code",
   "execution_count": null,
   "outputs": [],
   "source": [
    "## Model Training: Logistic Regression\n",
    "\n",
    "We train a Logistic Regression model using the training set. Logistic Regression is a good starting point for classification tasks.\n"
   ],
   "metadata": {
    "collapsed": false
   },
   "id": "c468820bcdb39375"
  },
  {
   "cell_type": "code",
   "execution_count": null,
   "outputs": [],
   "source": [
    "# first we check how LogisticRegression perform \n",
    "from pyspark.ml.classification import LogisticRegression\n",
    "LR = LogisticRegression(featuresCol = 'features', labelCol = 'label', maxIter=15)\n",
    "LR_model = LR.fit(train)"
   ],
   "metadata": {
    "collapsed": false
   },
   "id": "6478df448e4ca256"
  },
  {
   "cell_type": "code",
   "execution_count": null,
   "outputs": [],
   "source": [
    "## Model Evaluation\n",
    "\n",
    "After training the model, we evaluate its performance on the test set. We look at metrics like accuracy, precision, recall, and F1-score to understand how well the model is doing.\n"
   ],
   "metadata": {
    "collapsed": false
   },
   "id": "a180f980c22e8bdb"
  },
  {
   "cell_type": "code",
   "execution_count": 24,
   "id": "5d33ed14-7fb5-4913-be33-16cef8e52fc8",
   "metadata": {},
   "outputs": [
    {
     "name": "stderr",
     "output_type": "stream",
     "text": [
      "                                                                                \r"
     ]
    },
    {
     "data": {
      "image/png": "[encoded data removed]",
      "text/plain": [
       "<Figure size 640x480 with 1 Axes>"
      ]
     },
     "metadata": {},
     "output_type": "display_data"
    },
    {
     "name": "stdout",
     "output_type": "stream",
     "text": [
      "Training set ROC: 0.7240510891767478\n"
     ]
    }
   ],
   "source": [
    "#plotting the ROC Curve\n",
    "trainingSummary = LR_model.summary\n",
    "roc = trainingSummary.roc.toPandas()\n",
    "plt.plot(roc['FPR'],roc['TPR'])\n",
    "plt.ylabel('False Positive Rate')\n",
    "plt.xlabel('True Positive Rate')\n",
    "plt.title('ROC Curve')\n",
    "plt.show()\n",
    "print('Training set ROC: ' + str(trainingSummary.areaUnderROC))"
   ]
  },
  {
   "cell_type": "code",
   "execution_count": 25,
   "id": "b7405a05-9a7a-4107-845f-6cb340b66515",
   "metadata": {},
   "outputs": [
    {
     "name": "stderr",
     "output_type": "stream",
     "text": [
      "                                                                                \r"
     ]
    },
    {
     "name": "stdout",
     "output_type": "stream",
     "text": [
      "Test SET ROC: 0.7172322264697136\n"
     ]
    }
   ],
   "source": [
    "from pyspark.ml.evaluation import BinaryClassificationEvaluator\n",
    "predictions_LR = LR_model.transform(test)\n",
    "evaluator = BinaryClassificationEvaluator()\n",
    "print(\"Test SET ROC: \" + str(evaluator.evaluate(predictions_LR, {evaluator.metricName: \"areaUnderROC\"})))\n"
   ]
  },
  {
   "cell_type": "code",
   "execution_count": 26,
   "id": "92bc7439-b55d-4729-a91e-26e6cbd1d0db",
   "metadata": {},
   "outputs": [
    {
     "name": "stderr",
     "output_type": "stream",
     "text": [
      "                                                                                \r"
     ]
    }
   ],
   "source": [
    "from pyspark.ml.classification import GBTClassifier\n",
    "gbt = GBTClassifier(maxIter=15)\n",
    "GBT_Model = gbt.fit(train)\n",
    "gbt_predictions = GBT_Model.transform(test)\n",
    "evaluator = BinaryClassificationEvaluator()"
   ]
  },
  {
   "cell_type": "code",
   "execution_count": 27,
   "id": "1f709ecb-248b-4643-91c7-c55b1edddb2a",
   "metadata": {},
   "outputs": [
    {
     "name": "stderr",
     "output_type": "stream",
     "text": [
      "                                                                                \r"
     ]
    },
    {
     "name": "stdout",
     "output_type": "stream",
     "text": [
      "Test SET ROC: 0.7296007667801193\n"
     ]
    }
   ],
   "source": [
    "print(\"Test SET ROC: \" + str(evaluator.evaluate(gbt_predictions, {evaluator.metricName: \"areaUnderROC\"})))"
   ]
  },
  {
   "cell_type": "code",
   "execution_count": 28,
   "id": "ef05293f-9337-4fb4-b43e-cf2c55d26ebc",
   "metadata": {
    "scrolled": true
   },
   "outputs": [
    {
     "name": "stderr",
     "output_type": "stream",
     "text": [
      "[Stage 2445:=============>                                        (4 + 12) / 16]\r"
     ]
    },
    {
     "name": "stdout",
     "output_type": "stream",
     "text": [
      "Evaluation metric: 0.7309844235657252\n"
     ]
    },
    {
     "name": "stderr",
     "output_type": "stream",
     "text": [
      "                                                                                \r"
     ]
    }
   ],
   "source": [
    "from pyspark.ml.tuning import ParamGridBuilder, CrossValidator\n",
    "from pyspark.ml.evaluation import BinaryClassificationEvaluator  # Or your chosen evaluator\n",
    "from pyspark.ml.classification import GBTClassifier  # Or your chosen model\n",
    "\n",
    "# Assuming gbt and evaluator are defined. For example,\n",
    "gbt = GBTClassifier(featuresCol=\"features\", labelCol=\"label\")\n",
    "evaluator = BinaryClassificationEvaluator()\n",
    "\n",
    "paramGrid = (ParamGridBuilder()\n",
    "             .addGrid(gbt.maxDepth, [2, 4, 6])\n",
    "             .addGrid(gbt.maxBins, [20])\n",
    "             .addGrid(gbt.maxIter, [10])\n",
    "             .build())\n",
    "\n",
    "cv = CrossValidator(estimator=gbt,\n",
    "                    estimatorParamMaps=paramGrid,\n",
    "                    evaluator=evaluator,\n",
    "                    numFolds=5)\n",
    "\n",
    "# Assuming 'train' and 'test' datasets are defined.\n",
    "cvModel = cv.fit(train)\n",
    "gbt_cv_predictions = cvModel.transform(test)\n",
    "result = evaluator.evaluate(gbt_cv_predictions)\n",
    "\n",
    "print(\"Evaluation metric:\", result)\n"
   ]
  }
 ],
 "metadata": {
  "kernelspec": {
   "display_name": "Python 3 (ipykernel)",
   "language": "python",
   "name": "python3"
  },
  "language_info": {
   "codemirror_mode": {
    "name": "ipython",
    "version": 3
   },
   "file_extension": ".py",
   "mimetype": "text/x-python",
   "name": "python",
   "nbconvert_exporter": "python",
   "pygments_lexer": "ipython3",
   "version": "3.9.16"
  }
 },
 "nbformat": 4,
 "nbformat_minor": 5
}
